{
 "cells": [
  {
   "cell_type": "code",
   "execution_count": 1,
   "metadata": {},
   "outputs": [],
   "source": [
    "from cvxopt import matrix, solvers\n",
    "import numpy as np\n",
    "import pandas as pd"
   ]
  },
  {
   "cell_type": "code",
   "execution_count": 2,
   "metadata": {},
   "outputs": [],
   "source": [
    "df = pd.read_csv('http://rasmuskyng.com/am221_spring18/psets/hw3/wines.csv',delimiter=';')"
   ]
  },
  {
   "cell_type": "code",
   "execution_count": 3,
   "metadata": {},
   "outputs": [],
   "source": [
    "n = df.shape[0]\n",
    "m = df.shape[1] - 1"
   ]
  },
  {
   "cell_type": "code",
   "execution_count": 4,
   "metadata": {},
   "outputs": [],
   "source": [
    "X = df.iloc[:,:-1].as_matrix()\n",
    "One_2n = np.vstack((np.ones((n,1)),-1*np.ones((n,1))))\n",
    "In = np.identity(n)\n",
    "A = matrix(np.hstack((np.vstack((X,-X)),One_2n,np.vstack((-In,-In)))))"
   ]
  },
  {
   "cell_type": "code",
   "execution_count": 5,
   "metadata": {},
   "outputs": [],
   "source": [
    "y = df.iloc[:,-1].as_matrix().astype(float)\n",
    "b = matrix(np.hstack((y,-y)))"
   ]
  },
  {
   "cell_type": "code",
   "execution_count": 6,
   "metadata": {},
   "outputs": [],
   "source": [
    "c = matrix(np.hstack((np.zeros(m+1),np.repeat(1/n,n))))"
   ]
  },
  {
   "cell_type": "code",
   "execution_count": 7,
   "metadata": {},
   "outputs": [
    {
     "name": "stdout",
     "output_type": "stream",
     "text": [
      "     pcost       dcost       gap    pres   dres   k/t\n",
      " 0:  0.0000e+00 -1.3531e-16  4e+00  6e-01  3e-15  1e+00\n",
      " 1:  2.6495e-01  1.9609e-01  6e-01  1e-01  5e-14  8e-02\n",
      " 2:  4.4250e-01  4.2650e-01  1e-01  2e-02  2e-12  1e-02\n",
      " 3:  4.7316e-01  4.6528e-01  5e-02  8e-03  9e-13  5e-03\n",
      " 4:  4.8438e-01  4.8037e-01  3e-02  4e-03  2e-12  2e-03\n",
      " 5:  4.9103e-01  4.8972e-01  8e-03  1e-03  7e-12  5e-04\n",
      " 6:  4.9320e-01  4.9290e-01  2e-03  2e-04  2e-12  7e-05\n",
      " 7:  4.9358e-01  4.9348e-01  5e-04  8e-05  2e-11  2e-05\n",
      " 8:  4.9371e-01  4.9369e-01  1e-04  2e-05  3e-12  2e-06\n",
      " 9:  4.9374e-01  4.9374e-01  2e-05  3e-06  7e-12  3e-07\n",
      "10:  4.9375e-01  4.9375e-01  4e-07  6e-08  4e-11  4e-09\n",
      "Optimal solution found.\n"
     ]
    }
   ],
   "source": [
    "d=solvers.lp(c,A,b)"
   ]
  }
 ],
 "metadata": {
  "kernelspec": {
   "display_name": "ml",
   "language": "python",
   "name": "ml"
  },
  "language_info": {
   "codemirror_mode": {
    "name": "ipython",
    "version": 3
   },
   "file_extension": ".py",
   "mimetype": "text/x-python",
   "name": "python",
   "nbconvert_exporter": "python",
   "pygments_lexer": "ipython3",
   "version": "3.6.3"
  }
 },
 "nbformat": 4,
 "nbformat_minor": 2
}
