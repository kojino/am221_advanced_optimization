{
 "cells": [
  {
   "cell_type": "code",
   "execution_count": 1,
   "metadata": {},
   "outputs": [],
   "source": [
    "import numpy as np"
   ]
  },
  {
   "cell_type": "code",
   "execution_count": 131,
   "metadata": {},
   "outputs": [],
   "source": [
    "def f(x):\n",
    "    return x.T @ A @ x\n",
    "\n",
    "def grad_f(x):\n",
    "    return 2 * A @ x\n",
    "\n",
    "def hess_f(x):\n",
    "    return 2 * A\n",
    "\n",
    "def backline_search(x):\n",
    "    t = 1\n",
    "    while f(x - t * grad_f(x)) > f(x) - a * t * np.linalg.norm(grad_f(x))**2:\n",
    "        t = b * t\n",
    "    return t"
   ]
  },
  {
   "cell_type": "code",
   "execution_count": 136,
   "metadata": {},
   "outputs": [],
   "source": [
    "a = 0.3\n",
    "b = 0.7\n",
    "e = 10**-10\n",
    "lambdas = [i for i in [10**i for i in range(6)]]"
   ]
  },
  {
   "cell_type": "code",
   "execution_count": 137,
   "metadata": {},
   "outputs": [
    {
     "name": "stdout",
     "output_type": "stream",
     "text": [
      "26\n",
      "117\n",
      "989\n",
      "11768\n",
      "124331\n",
      "1166418\n"
     ]
    }
   ],
   "source": [
    "iters = []\n",
    "for lam in lambdas:\n",
    "    A = np.array([[1+lam,1-lam],[1-lam,1+lam]])\n",
    "    k = 0\n",
    "    x = np.array([1,2])\n",
    "    while np.linalg.norm(grad_f(x)) >= e:\n",
    "        t = backline_search(x)\n",
    "        x = x - t * grad_f(x)\n",
    "        k += 1\n",
    "    print(k)\n",
    "    iters.append(k)\n"
   ]
  },
  {
   "cell_type": "code",
   "execution_count": 141,
   "metadata": {},
   "outputs": [
    {
     "data": {
      "image/png": "[encoded data removed]",
      "text/plain": [
       "<matplotlib.figure.Figure at 0x10ffbc3c8>"
      ]
     },
     "metadata": {},
     "output_type": "display_data"
    }
   ],
   "source": [
    "import matplotlib.pyplot as plt\n",
    "plt.plot(lambdas, iters)\n",
    "plt.title(\"Iterations taken for each lambda\")\n",
    "plt.xlabel('lambda')\n",
    "plt.ylabel('num_iters')\n",
    "plt.show()"
   ]
  },
  {
   "cell_type": "code",
   "execution_count": null,
   "metadata": {},
   "outputs": [
    {
     "name": "stdout",
     "output_type": "stream",
     "text": [
      "61\n",
      "922\n",
      "8614\n",
      "113155\n",
      "1033428\n"
     ]
    }
   ],
   "source": [
    "iters = []\n",
    "for lam in lambdas:\n",
    "    A = np.array([[1+lam,1-lam],[1-lam,1+lam]])\n",
    "    k = 0\n",
    "    x = np.array([1,2])\n",
    "    while np.linalg.norm(grad_f(x)) >= e:\n",
    "        t = backline_search(x)\n",
    "        x = x - t * grad_f(x) @ np.linalg.inv(hess_f(x))\n",
    "        k += 1\n",
    "    print(k)\n",
    "    iters.append(k)\n"
   ]
  },
  {
   "cell_type": "code",
   "execution_count": 109,
   "metadata": {},
   "outputs": [
    {
     "data": {
      "text/plain": [
       "array([ 0.,  0.])"
      ]
     },
     "execution_count": 109,
     "metadata": {},
     "output_type": "execute_result"
    }
   ],
   "source": [
    "import matplotlib.pyplot as plt\n",
    "plt.plot(lambdas, iters)\n",
    "plt.show()"
   ]
  },
  {
   "cell_type": "code",
   "execution_count": null,
   "metadata": {},
   "outputs": [],
   "source": []
  }
 ],
 "metadata": {
  "kernelspec": {
   "display_name": "ml",
   "language": "python",
   "name": "ml"
  },
  "language_info": {
   "codemirror_mode": {
    "name": "ipython",
    "version": 3
   },
   "file_extension": ".py",
   "mimetype": "text/x-python",
   "name": "python",
   "nbconvert_exporter": "python",
   "pygments_lexer": "ipython3",
   "version": "3.6.3"
  }
 },
 "nbformat": 4,
 "nbformat_minor": 2
}
