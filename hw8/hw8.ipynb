{
 "cells": [
  {
   "cell_type": "code",
   "execution_count": 1,
   "metadata": {},
   "outputs": [],
   "source": [
    "import matplotlib.pyplot as plt\n",
    "import numpy as np\n",
    "import pandas as pd\n",
    "from numpy import linalg as LA\n",
    "from sklearn import datasets"
   ]
  },
  {
   "cell_type": "code",
   "execution_count": 2,
   "metadata": {},
   "outputs": [],
   "source": [
    "df = pd.read_csv('http://rasmuskyng.com/am221_spring18/psets/hw7/banknotes.data',header=None)"
   ]
  },
  {
   "cell_type": "code",
   "execution_count": 3,
   "metadata": {},
   "outputs": [],
   "source": [
    "df[4] = 2 * df[4] - 1"
   ]
  },
  {
   "cell_type": "code",
   "execution_count": 4,
   "metadata": {},
   "outputs": [],
   "source": [
    "def backline_search(X):\n",
    "    t = 1\n",
    "    a = 0.3\n",
    "    b = 0.7\n",
    "    while f(X - t * grad_f(X)) > f(X) - a * t * np.linalg.norm(grad_f(X))**2:\n",
    "        t = b * t\n",
    "    return t"
   ]
  },
  {
   "cell_type": "code",
   "execution_count": 39,
   "metadata": {},
   "outputs": [],
   "source": [
    "def gradient_descent(X):\n",
    "    e = 10**-10\n",
    "    while np.linalg.norm(grad_f(X)) >= e:\n",
    "        t = backline_search(X)\n",
    "        X = X - t * grad_f(X)\n",
    "        print(np.linalg.norm(grad_f(X)),t)\n",
    "    return X"
   ]
  },
  {
   "cell_type": "code",
   "execution_count": 58,
   "metadata": {},
   "outputs": [],
   "source": [
    "def grad_f(X):\n",
    "    w, b, xi = X[:d], X[d], X[d+1:]\n",
    "    fix = 1 - y * (x @ w + b) - xi\n",
    "    grad_w = t * w - np.sum(-(y * x) / fix,axis=0,keepdims=True).T\n",
    "    grad_b = np.sum(-y / fix).reshape(1,1)\n",
    "    grad_xi = np.repeat(t * lam, n).reshape(n,1) + fix\n",
    "    grad = np.vstack([grad_w,grad_b,grad_xi])\n",
    "    return grad"
   ]
  },
  {
   "cell_type": "code",
   "execution_count": 59,
   "metadata": {},
   "outputs": [],
   "source": [
    "def f(X):\n",
    "    w, b, xi = X[:d], X[d], X[d+1:]\n",
    "    return 1/2 * np.linalg.norm(w, ord=2) ** 2 + lam * np.sum(xi)"
   ]
  },
  {
   "cell_type": "code",
   "execution_count": 60,
   "metadata": {},
   "outputs": [],
   "source": [
    "x = np.array(df.iloc[:,:3])\n",
    "y = np.expand_dims(np.array(df[4]),axis=1)\n",
    "lam = 10 ** -2\n",
    "n,d = x.shape"
   ]
  },
  {
   "cell_type": "code",
   "execution_count": 61,
   "metadata": {},
   "outputs": [],
   "source": [
    "w_b_xi = np.expand_dims(np.hstack([np.zeros(d+1),np.repeat(2,n)]),axis=1)"
   ]
  },
  {
   "cell_type": "code",
   "execution_count": 62,
   "metadata": {},
   "outputs": [
    {
     "name": "stdout",
     "output_type": "stream",
     "text": [
      "4858.193425763756 2.0593283675003645e-22\n",
      "4858.193425763756 2.0593283675003645e-22\n",
      "4858.193425763756 2.0593283675003645e-22\n",
      "4858.193425763756 2.0593283675003645e-22\n",
      "4858.193425763756 2.0593283675003645e-22\n",
      "4858.193425763756 2.0593283675003645e-22\n",
      "4858.193425763756 2.0593283675003645e-22\n",
      "4858.193425763756 2.0593283675003645e-22\n",
      "4858.193425763756 2.0593283675003645e-22\n",
      "4858.193425763756 2.0593283675003645e-22\n",
      "4858.193425763756 2.0593283675003645e-22\n",
      "4858.193425763756 2.0593283675003645e-22\n",
      "4858.193425763756 2.0593283675003645e-22\n",
      "4858.193425763756 2.0593283675003645e-22\n",
      "4858.193425763756 2.0593283675003645e-22\n",
      "4858.193425763756 2.0593283675003645e-22\n",
      "4858.193425763756 2.0593283675003645e-22\n",
      "4858.193425763756 2.0593283675003645e-22\n",
      "4858.193425763756 2.0593283675003645e-22\n",
      "4858.193425763756 2.0593283675003645e-22\n",
      "4858.193425763755 2.0593283675003645e-22\n",
      "4858.193425763755 2.0593283675003645e-22\n",
      "4858.193425763755 2.0593283675003645e-22\n",
      "4858.193425763755 2.0593283675003645e-22\n",
      "4858.193425763755 2.0593283675003645e-22\n",
      "4858.193425763755 2.0593283675003645e-22\n",
      "4858.193425763755 2.0593283675003645e-22\n",
      "4858.193425763755 2.0593283675003645e-22\n",
      "4858.193425763755 2.0593283675003645e-22\n",
      "4858.193425763755 2.0593283675003645e-22\n",
      "4858.193425763755 2.0593283675003645e-22\n",
      "4858.193425763755 2.0593283675003645e-22\n",
      "4858.193425763755 2.0593283675003645e-22\n",
      "4858.193425763755 2.0593283675003645e-22\n",
      "4858.193425763755 2.0593283675003645e-22\n",
      "4858.193425763755 2.0593283675003645e-22\n",
      "4858.193425763755 2.0593283675003645e-22\n",
      "4858.193425763754 2.0593283675003645e-22\n",
      "4858.193425763754 2.0593283675003645e-22\n",
      "4858.193425763754 2.0593283675003645e-22\n",
      "4858.193425763754 2.0593283675003645e-22\n",
      "4858.193425763754 2.0593283675003645e-22\n",
      "4858.193425763754 2.0593283675003645e-22\n",
      "4858.193425763754 2.0593283675003645e-22\n",
      "4858.193425763754 2.0593283675003645e-22\n",
      "4858.193425763754 2.0593283675003645e-22\n",
      "4858.193425763754 2.0593283675003645e-22\n",
      "4858.193425763754 2.0593283675003645e-22\n",
      "4858.193425763754 2.0593283675003645e-22\n",
      "4858.193425763753 2.0593283675003645e-22\n",
      "4858.193425763753 2.0593283675003645e-22\n",
      "4858.193425763753 2.0593283675003645e-22\n",
      "4858.193425763753 2.0593283675003645e-22\n",
      "4858.193425763753 2.0593283675003645e-22\n",
      "4858.193425763753 2.0593283675003645e-22\n",
      "4858.193425763753 2.0593283675003645e-22\n",
      "4858.193425763753 2.0593283675003645e-22\n",
      "4858.193425763753 2.0593283675003645e-22\n",
      "4858.193425763753 2.0593283675003645e-22\n",
      "4858.193425763753 2.0593283675003645e-22\n",
      "4858.193425763753 2.0593283675003645e-22\n",
      "4858.193425763753 2.0593283675003645e-22\n",
      "4858.193425763753 2.0593283675003645e-22\n",
      "4858.193425763753 2.0593283675003645e-22\n",
      "4858.193425763753 2.0593283675003645e-22\n",
      "4858.193425763753 2.0593283675003645e-22\n",
      "4858.193425763753 2.0593283675003645e-22\n",
      "4858.193425763752 2.0593283675003645e-22\n",
      "4858.193425763752 2.0593283675003645e-22\n",
      "4858.193425763752 2.0593283675003645e-22\n",
      "4858.193425763752 2.0593283675003645e-22\n",
      "4858.193425763752 2.0593283675003645e-22\n",
      "4858.193425763752 2.0593283675003645e-22\n",
      "4858.193425763753 2.0593283675003645e-22\n",
      "4858.193425763752 2.0593283675003645e-22\n",
      "4858.193425763752 2.0593283675003645e-22\n",
      "4858.193425763752 2.0593283675003645e-22\n",
      "4858.193425763752 2.0593283675003645e-22\n",
      "4858.193425763752 2.0593283675003645e-22\n",
      "4858.193425763751 2.0593283675003645e-22\n",
      "4858.193425763751 2.0593283675003645e-22\n",
      "4858.193425763751 2.0593283675003645e-22\n",
      "4858.193425763751 2.0593283675003645e-22\n",
      "4858.193425763751 2.0593283675003645e-22\n",
      "4858.193425763751 2.0593283675003645e-22\n",
      "4858.193425763751 2.0593283675003645e-22\n",
      "4858.193425763751 2.0593283675003645e-22\n",
      "4858.193425763751 2.0593283675003645e-22\n"
     ]
    },
    {
     "ename": "KeyboardInterrupt",
     "evalue": "",
     "output_type": "error",
     "traceback": [
      "\u001b[0;31m-----------------------------------------------------------\u001b[0m",
      "\u001b[0;31mKeyboardInterrupt\u001b[0m         Traceback (most recent call last)",
      "\u001b[0;32m<ipython-input-62-39688b73edb7>\u001b[0m in \u001b[0;36m<module>\u001b[0;34m()\u001b[0m\n\u001b[1;32m      4\u001b[0m \u001b[0mt\u001b[0m \u001b[0;34m=\u001b[0m \u001b[0;36m1\u001b[0m\u001b[0;34m\u001b[0m\u001b[0m\n\u001b[1;32m      5\u001b[0m \u001b[0;32mwhile\u001b[0m \u001b[0mm\u001b[0m \u001b[0;34m/\u001b[0m \u001b[0mt\u001b[0m \u001b[0;34m>=\u001b[0m \u001b[0meps\u001b[0m\u001b[0;34m:\u001b[0m\u001b[0;34m\u001b[0m\u001b[0m\n\u001b[0;32m----> 6\u001b[0;31m     \u001b[0mw_b_xi\u001b[0m \u001b[0;34m=\u001b[0m \u001b[0mgradient_descent\u001b[0m\u001b[0;34m(\u001b[0m\u001b[0mw_b_xi\u001b[0m\u001b[0;34m)\u001b[0m\u001b[0;34m\u001b[0m\u001b[0m\n\u001b[0m\u001b[1;32m      7\u001b[0m     \u001b[0mt\u001b[0m \u001b[0;34m=\u001b[0m \u001b[0mmu\u001b[0m \u001b[0;34m*\u001b[0m \u001b[0mt\u001b[0m\u001b[0;34m\u001b[0m\u001b[0m\n",
      "\u001b[0;32m<ipython-input-39-11a1ec4ce88a>\u001b[0m in \u001b[0;36mgradient_descent\u001b[0;34m(X)\u001b[0m\n\u001b[1;32m      2\u001b[0m     \u001b[0me\u001b[0m \u001b[0;34m=\u001b[0m \u001b[0;36m10\u001b[0m\u001b[0;34m**\u001b[0m\u001b[0;34m-\u001b[0m\u001b[0;36m10\u001b[0m\u001b[0;34m\u001b[0m\u001b[0m\n\u001b[1;32m      3\u001b[0m     \u001b[0;32mwhile\u001b[0m \u001b[0mnp\u001b[0m\u001b[0;34m.\u001b[0m\u001b[0mlinalg\u001b[0m\u001b[0;34m.\u001b[0m\u001b[0mnorm\u001b[0m\u001b[0;34m(\u001b[0m\u001b[0mgrad_f\u001b[0m\u001b[0;34m(\u001b[0m\u001b[0mX\u001b[0m\u001b[0;34m)\u001b[0m\u001b[0;34m)\u001b[0m \u001b[0;34m>=\u001b[0m \u001b[0me\u001b[0m\u001b[0;34m:\u001b[0m\u001b[0;34m\u001b[0m\u001b[0m\n\u001b[0;32m----> 4\u001b[0;31m         \u001b[0mt\u001b[0m \u001b[0;34m=\u001b[0m \u001b[0mbackline_search\u001b[0m\u001b[0;34m(\u001b[0m\u001b[0mX\u001b[0m\u001b[0;34m)\u001b[0m\u001b[0;34m\u001b[0m\u001b[0m\n\u001b[0m\u001b[1;32m      5\u001b[0m         \u001b[0mX\u001b[0m \u001b[0;34m=\u001b[0m \u001b[0mX\u001b[0m \u001b[0;34m-\u001b[0m \u001b[0mt\u001b[0m \u001b[0;34m*\u001b[0m \u001b[0mgrad_f\u001b[0m\u001b[0;34m(\u001b[0m\u001b[0mX\u001b[0m\u001b[0;34m)\u001b[0m\u001b[0;34m\u001b[0m\u001b[0m\n\u001b[1;32m      6\u001b[0m         \u001b[0mprint\u001b[0m\u001b[0;34m(\u001b[0m\u001b[0mnp\u001b[0m\u001b[0;34m.\u001b[0m\u001b[0mlinalg\u001b[0m\u001b[0;34m.\u001b[0m\u001b[0mnorm\u001b[0m\u001b[0;34m(\u001b[0m\u001b[0mgrad_f\u001b[0m\u001b[0;34m(\u001b[0m\u001b[0mX\u001b[0m\u001b[0;34m)\u001b[0m\u001b[0;34m)\u001b[0m\u001b[0;34m,\u001b[0m\u001b[0mt\u001b[0m\u001b[0;34m)\u001b[0m\u001b[0;34m\u001b[0m\u001b[0m\n",
      "\u001b[0;32m<ipython-input-4-0d900e66b1ef>\u001b[0m in \u001b[0;36mbackline_search\u001b[0;34m(X)\u001b[0m\n\u001b[1;32m      3\u001b[0m     \u001b[0ma\u001b[0m \u001b[0;34m=\u001b[0m \u001b[0;36m0.3\u001b[0m\u001b[0;34m\u001b[0m\u001b[0m\n\u001b[1;32m      4\u001b[0m     \u001b[0mb\u001b[0m \u001b[0;34m=\u001b[0m \u001b[0;36m0.7\u001b[0m\u001b[0;34m\u001b[0m\u001b[0m\n\u001b[0;32m----> 5\u001b[0;31m     \u001b[0;32mwhile\u001b[0m \u001b[0mf\u001b[0m\u001b[0;34m(\u001b[0m\u001b[0mX\u001b[0m \u001b[0;34m-\u001b[0m \u001b[0mt\u001b[0m \u001b[0;34m*\u001b[0m \u001b[0mgrad_f\u001b[0m\u001b[0;34m(\u001b[0m\u001b[0mX\u001b[0m\u001b[0;34m)\u001b[0m\u001b[0;34m)\u001b[0m \u001b[0;34m>\u001b[0m \u001b[0mf\u001b[0m\u001b[0;34m(\u001b[0m\u001b[0mX\u001b[0m\u001b[0;34m)\u001b[0m \u001b[0;34m-\u001b[0m \u001b[0ma\u001b[0m \u001b[0;34m*\u001b[0m \u001b[0mt\u001b[0m \u001b[0;34m*\u001b[0m \u001b[0mnp\u001b[0m\u001b[0;34m.\u001b[0m\u001b[0mlinalg\u001b[0m\u001b[0;34m.\u001b[0m\u001b[0mnorm\u001b[0m\u001b[0;34m(\u001b[0m\u001b[0mgrad_f\u001b[0m\u001b[0;34m(\u001b[0m\u001b[0mX\u001b[0m\u001b[0;34m)\u001b[0m\u001b[0;34m)\u001b[0m\u001b[0;34m**\u001b[0m\u001b[0;36m2\u001b[0m\u001b[0;34m:\u001b[0m\u001b[0;34m\u001b[0m\u001b[0m\n\u001b[0m\u001b[1;32m      6\u001b[0m         \u001b[0mt\u001b[0m \u001b[0;34m=\u001b[0m \u001b[0mb\u001b[0m \u001b[0;34m*\u001b[0m \u001b[0mt\u001b[0m\u001b[0;34m\u001b[0m\u001b[0m\n\u001b[1;32m      7\u001b[0m     \u001b[0;32mreturn\u001b[0m \u001b[0mt\u001b[0m\u001b[0;34m\u001b[0m\u001b[0m\n",
      "\u001b[0;32m~/anaconda/envs/ml/lib/python3.6/site-packages/numpy/linalg/linalg.py\u001b[0m in \u001b[0;36mnorm\u001b[0;34m(x, ord, axis, keepdims)\u001b[0m\n\u001b[1;32m   2255\u001b[0m             \u001b[0;32melse\u001b[0m\u001b[0;34m:\u001b[0m\u001b[0;34m\u001b[0m\u001b[0m\n\u001b[1;32m   2256\u001b[0m                 \u001b[0msqnorm\u001b[0m \u001b[0;34m=\u001b[0m \u001b[0mdot\u001b[0m\u001b[0;34m(\u001b[0m\u001b[0mx\u001b[0m\u001b[0;34m,\u001b[0m \u001b[0mx\u001b[0m\u001b[0;34m)\u001b[0m\u001b[0;34m\u001b[0m\u001b[0m\n\u001b[0;32m-> 2257\u001b[0;31m             \u001b[0mret\u001b[0m \u001b[0;34m=\u001b[0m \u001b[0msqrt\u001b[0m\u001b[0;34m(\u001b[0m\u001b[0msqnorm\u001b[0m\u001b[0;34m)\u001b[0m\u001b[0;34m\u001b[0m\u001b[0m\n\u001b[0m\u001b[1;32m   2258\u001b[0m             \u001b[0;32mif\u001b[0m \u001b[0mkeepdims\u001b[0m\u001b[0;34m:\u001b[0m\u001b[0;34m\u001b[0m\u001b[0m\n\u001b[1;32m   2259\u001b[0m                 \u001b[0mret\u001b[0m \u001b[0;34m=\u001b[0m \u001b[0mret\u001b[0m\u001b[0;34m.\u001b[0m\u001b[0mreshape\u001b[0m\u001b[0;34m(\u001b[0m\u001b[0mndim\u001b[0m\u001b[0;34m*\u001b[0m\u001b[0;34m[\u001b[0m\u001b[0;36m1\u001b[0m\u001b[0;34m]\u001b[0m\u001b[0;34m)\u001b[0m\u001b[0;34m\u001b[0m\u001b[0m\n",
      "\u001b[0;31mKeyboardInterrupt\u001b[0m: "
     ]
    }
   ],
   "source": [
    "eps = 0.0001\n",
    "m = 2 * n\n",
    "mu = 1.1\n",
    "t = 1\n",
    "while m / t >= eps:\n",
    "    w_b_xi = gradient_descent(w_b_xi)\n",
    "    t = mu * t"
   ]
  },
  {
   "cell_type": "code",
   "execution_count": 13,
   "metadata": {},
   "outputs": [
    {
     "data": {
      "text/plain": [
       "array([[1.],\n",
       "       [1.],\n",
       "       [1.],\n",
       "       ...,\n",
       "       [1.],\n",
       "       [1.],\n",
       "       [1.]])"
      ]
     },
     "execution_count": 13,
     "metadata": {},
     "output_type": "execute_result"
    }
   ],
   "source": [
    "w_b_xi[d+1:]"
   ]
  },
  {
   "cell_type": "code",
   "execution_count": null,
   "metadata": {},
   "outputs": [],
   "source": []
  }
 ],
 "metadata": {
  "kernelspec": {
   "display_name": "ml",
   "language": "python",
   "name": "ml"
  },
  "language_info": {
   "codemirror_mode": {
    "name": "ipython",
    "version": 3
   },
   "file_extension": ".py",
   "mimetype": "text/x-python",
   "name": "python",
   "nbconvert_exporter": "python",
   "pygments_lexer": "ipython3",
   "version": "3.6.3"
  }
 },
 "nbformat": 4,
 "nbformat_minor": 2
}
