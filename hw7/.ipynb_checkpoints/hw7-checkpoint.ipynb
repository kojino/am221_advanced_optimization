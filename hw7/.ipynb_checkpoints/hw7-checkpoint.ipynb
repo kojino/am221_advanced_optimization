{
 "cells": [
  {
   "cell_type": "code",
   "execution_count": 2,
   "metadata": {},
   "outputs": [],
   "source": [
    "import matplotlib.pyplot as plt\n",
    "import numpy as np\n",
    "import pandas as pd\n",
    "from numpy import linalg as LA\n",
    "from sklearn import datasets"
   ]
  },
  {
   "cell_type": "code",
   "execution_count": 3,
   "metadata": {},
   "outputs": [],
   "source": [
    "df = pd.read_csv('http://rasmuskyng.com/am221_spring18/psets/hw7/banknotes.data',header=None)"
   ]
  },
  {
   "cell_type": "code",
   "execution_count": 4,
   "metadata": {},
   "outputs": [],
   "source": [
    "df[4] = 2 * df[4] - 1"
   ]
  },
  {
   "cell_type": "code",
   "execution_count": 5,
   "metadata": {},
   "outputs": [],
   "source": [
    "X = df.iloc[:,:4].copy()\n",
    "y = df.iloc[:,4].copy()\n",
    "target = y==-1"
   ]
  },
  {
   "cell_type": "code",
   "execution_count": 8,
   "metadata": {},
   "outputs": [],
   "source": [
    "# a. \n",
    "def perceptron(X):\n",
    "    \n",
    "    w = [0.0 for i in range(X.shape[1])]\n",
    "    separated = False\n",
    "    while not separated:\n",
    "        separated = True\n",
    "        for x in X:\n",
    "            if w @ x <= 0:\n",
    "                w += x/LA.norm(x, 2)\n",
    "                separated=False\n",
    "\n",
    "    return w\n",
    "\n"
   ]
  },
  {
   "cell_type": "code",
   "execution_count": 7,
   "metadata": {},
   "outputs": [
    {
     "ename": "KeyboardInterrupt",
     "evalue": "",
     "output_type": "error",
     "traceback": [
      "\u001b[0;31m---------------------------------------------------------------------------\u001b[0m",
      "\u001b[0;31mKeyboardInterrupt\u001b[0m                         Traceback (most recent call last)",
      "\u001b[0;32m<ipython-input-7-2340697a29a0>\u001b[0m in \u001b[0;36m<module>\u001b[0;34m()\u001b[0m\n\u001b[1;32m      5\u001b[0m \u001b[0mX\u001b[0m\u001b[0;34m[\u001b[0m\u001b[0mtarget\u001b[0m\u001b[0;34m]\u001b[0m \u001b[0;34m=\u001b[0m \u001b[0;34m-\u001b[0m\u001b[0;36m1\u001b[0m \u001b[0;34m*\u001b[0m \u001b[0mX\u001b[0m\u001b[0;34m[\u001b[0m\u001b[0mtarget\u001b[0m\u001b[0;34m]\u001b[0m\u001b[0;34m\u001b[0m\u001b[0m\n\u001b[1;32m      6\u001b[0m \u001b[0;34m\u001b[0m\u001b[0m\n\u001b[0;32m----> 7\u001b[0;31m \u001b[0mperceptron\u001b[0m\u001b[0;34m(\u001b[0m\u001b[0mX\u001b[0m\u001b[0;34m)\u001b[0m\u001b[0;34m\u001b[0m\u001b[0m\n\u001b[0m",
      "\u001b[0;32m<ipython-input-6-290889407471>\u001b[0m in \u001b[0;36mperceptron\u001b[0;34m(X)\u001b[0m\n\u001b[1;32m      7\u001b[0m         \u001b[0mseparated\u001b[0m \u001b[0;34m=\u001b[0m \u001b[0;32mTrue\u001b[0m\u001b[0;34m\u001b[0m\u001b[0m\n\u001b[1;32m      8\u001b[0m         \u001b[0;32mfor\u001b[0m \u001b[0mx\u001b[0m \u001b[0;32min\u001b[0m \u001b[0mX\u001b[0m\u001b[0;34m:\u001b[0m\u001b[0;34m\u001b[0m\u001b[0m\n\u001b[0;32m----> 9\u001b[0;31m             \u001b[0;32mif\u001b[0m \u001b[0mw\u001b[0m \u001b[0;34m@\u001b[0m \u001b[0mx\u001b[0m \u001b[0;34m<=\u001b[0m \u001b[0;36m0\u001b[0m\u001b[0;34m:\u001b[0m\u001b[0;34m\u001b[0m\u001b[0m\n\u001b[0m\u001b[1;32m     10\u001b[0m                 \u001b[0mw\u001b[0m \u001b[0;34m+=\u001b[0m \u001b[0mx\u001b[0m\u001b[0;34m/\u001b[0m\u001b[0mLA\u001b[0m\u001b[0;34m.\u001b[0m\u001b[0mnorm\u001b[0m\u001b[0;34m(\u001b[0m\u001b[0mx\u001b[0m\u001b[0;34m,\u001b[0m \u001b[0;36m2\u001b[0m\u001b[0;34m)\u001b[0m\u001b[0;34m\u001b[0m\u001b[0m\n\u001b[1;32m     11\u001b[0m                 \u001b[0mseparated\u001b[0m\u001b[0;34m=\u001b[0m\u001b[0;32mFalse\u001b[0m\u001b[0;34m\u001b[0m\u001b[0m\n",
      "\u001b[0;31mKeyboardInterrupt\u001b[0m: "
     ]
    }
   ],
   "source": [
    "# append -1 to the end of all rows\n",
    "X = np.hstack([X,-np.ones((X.shape[0],1))])\n",
    "\n",
    "# negate values in label 0\n",
    "X[target] = -1 * X[target]\n",
    "\n",
    "perceptron(X)"
   ]
  },
  {
   "cell_type": "code",
   "execution_count": 9,
   "metadata": {},
   "outputs": [],
   "source": [
    "# b.\n",
    "from cvxopt import matrix, solvers\n",
    "solvers.options['show_progress'] = False\n",
    "\n",
    "X = df.iloc[:,:4].copy()\n",
    "y = np.expand_dims(df.iloc[:,4].copy(),axis=-1)\n",
    "\n",
    "n,d = X.shape\n",
    "lambdas = [10.0**i for i in np.arange(-10,10,1)]"
   ]
  },
  {
   "cell_type": "code",
   "execution_count": 10,
   "metadata": {},
   "outputs": [],
   "source": [
    "def svm(lam):\n",
    "    Q = matrix(np.vstack([np.hstack([np.eye(d),np.zeros([d,1+n])]),np.zeros([1+n,d+1+n])]))\n",
    "    p = matrix(np.vstack([np.zeros([d+1,1]),lam * np.ones([n,1])]))\n",
    "    h = matrix(np.vstack([-1 * np.ones([n,1]),np.zeros([n,1])]))\n",
    "    G = matrix(np.vstack([np.hstack([-1 * y * X, -1 * y, -1 * np.ones([n,n])]),np.hstack([np.zeros([n,d+1]),-1 * np.eye(n)])]))\n",
    "    sol=solvers.qp(Q, p, G, h)\n",
    "    \n",
    "    w_opt = np.array(sol['x'])[:d]\n",
    "    b = np.array(sol['x'])[d]\n",
    "    print(w_opt,b)\n",
    "    acc = np.mean((X @ w_opt + b > 0).astype(float) == (y > 0).astype(float))\n",
    "    return acc"
   ]
  },
  {
   "cell_type": "code",
   "execution_count": 11,
   "metadata": {},
   "outputs": [
    {
     "data": {
      "text/plain": [
       "4"
      ]
     },
     "execution_count": 11,
     "metadata": {},
     "output_type": "execute_result"
    }
   ],
   "source": [
    "svm(1)"
   ]
  },
  {
   "cell_type": "code",
   "execution_count": 16,
   "metadata": {},
   "outputs": [
    {
     "name": "stdout",
     "output_type": "stream",
     "text": [
      "1e-10 0.444606413994\n",
      "1e-09 0.444606413994\n",
      "1e-08 0.555393586006\n",
      "1e-07 0.444606413994\n",
      "1e-06 0.555393586006\n",
      "1e-05 0.819970845481\n",
      "0.0001 0.974489795918\n",
      "0.001 0.986880466472\n",
      "0.01 0.989067055394\n",
      "0.1 0.989067055394\n",
      "1.0 0.989067055394\n",
      "10.0 0.989067055394\n",
      "100.0 0.989795918367\n",
      "1000.0 0.989795918367\n",
      "10000.0 0.989067055394\n",
      "100000.0 0.989795918367\n",
      "1000000.0 0.989067055394\n",
      "10000000.0 0.989795918367\n",
      "100000000.0 0.989795918367\n",
      "1000000000.0 0.989795918367\n"
     ]
    }
   ],
   "source": [
    "accuracies = []\n",
    "for lam in lambdas:\n",
    "    acc = svm(lam)\n",
    "    accuracies.append(acc)\n",
    "    print(lam,acc)"
   ]
  },
  {
   "cell_type": "code",
   "execution_count": 17,
   "metadata": {},
   "outputs": [
    {
     "data": {
      "image/png": "[encoded data removed]",
      "text/plain": [
       "<matplotlib.figure.Figure at 0x124626550>"
      ]
     },
     "metadata": {},
     "output_type": "display_data"
    }
   ],
   "source": [
    "import matplotlib.pyplot as plt\n",
    "plt.plot([i for i in np.arange(-10,10,1)],accuracies)\n",
    "plt.ylabel('some numbers')\n",
    "plt.show()\n"
   ]
  },
  {
   "cell_type": "code",
   "execution_count": null,
   "metadata": {},
   "outputs": [],
   "source": []
  }
 ],
 "metadata": {
  "kernelspec": {
   "display_name": "ml",
   "language": "python",
   "name": "ml"
  },
  "language_info": {
   "codemirror_mode": {
    "name": "ipython",
    "version": 3
   },
   "file_extension": ".py",
   "mimetype": "text/x-python",
   "name": "python",
   "nbconvert_exporter": "python",
   "pygments_lexer": "ipython3",
   "version": "3.6.3"
  }
 },
 "nbformat": 4,
 "nbformat_minor": 2
}
