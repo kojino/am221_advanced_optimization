{
 "cells": [
  {
   "cell_type": "code",
   "execution_count": 2,
   "metadata": {},
   "outputs": [],
   "source": [
    "import matplotlib.pyplot as plt\n",
    "import numpy as np\n",
    "import pandas as pd\n",
    "from numpy import linalg as LA\n",
    "from sklearn import datasets"
   ]
  },
  {
   "cell_type": "code",
   "execution_count": 3,
   "metadata": {},
   "outputs": [],
   "source": [
    "df = pd.read_csv('http://rasmuskyng.com/am221_spring18/psets/hw7/banknotes.data',header=None)"
   ]
  },
  {
   "cell_type": "code",
   "execution_count": 4,
   "metadata": {},
   "outputs": [],
   "source": [
    "df[4] = 2 * df[4] - 1"
   ]
  },
  {
   "cell_type": "code",
   "execution_count": 5,
   "metadata": {},
   "outputs": [],
   "source": [
    "X = df.iloc[:,:4].copy()\n",
    "y = df.iloc[:,4].copy()\n",
    "target = y==-1"
   ]
  },
  {
   "cell_type": "code",
   "execution_count": 8,
   "metadata": {},
   "outputs": [],
   "source": [
    "# a. \n",
    "def perceptron(X):\n",
    "    \n",
    "    w = [0.0 for i in range(X.shape[1])]\n",
    "    separated = False\n",
    "    while not separated:\n",
    "        separated = True\n",
    "        for x in X:\n",
    "            if w @ x <= 0:\n",
    "                w += x/LA.norm(x, 2)\n",
    "                separated=False\n",
    "\n",
    "    return w\n",
    "\n"
   ]
  },
  {
   "cell_type": "code",
   "execution_count": 7,
   "metadata": {},
   "outputs": [
    {
     "ename": "KeyboardInterrupt",
     "evalue": "",
     "output_type": "error",
     "traceback": [
      "\u001b[0;31m---------------------------------------------------------------------------\u001b[0m",
      "\u001b[0;31mKeyboardInterrupt\u001b[0m                         Traceback (most recent call last)",
      "\u001b[0;32m<ipython-input-7-2340697a29a0>\u001b[0m in \u001b[0;36m<module>\u001b[0;34m()\u001b[0m\n\u001b[1;32m      5\u001b[0m \u001b[0mX\u001b[0m\u001b[0;34m[\u001b[0m\u001b[0mtarget\u001b[0m\u001b[0;34m]\u001b[0m \u001b[0;34m=\u001b[0m \u001b[0;34m-\u001b[0m\u001b[0;36m1\u001b[0m \u001b[0;34m*\u001b[0m \u001b[0mX\u001b[0m\u001b[0;34m[\u001b[0m\u001b[0mtarget\u001b[0m\u001b[0;34m]\u001b[0m\u001b[0;34m\u001b[0m\u001b[0m\n\u001b[1;32m      6\u001b[0m \u001b[0;34m\u001b[0m\u001b[0m\n\u001b[0;32m----> 7\u001b[0;31m \u001b[0mperceptron\u001b[0m\u001b[0;34m(\u001b[0m\u001b[0mX\u001b[0m\u001b[0;34m)\u001b[0m\u001b[0;34m\u001b[0m\u001b[0m\n\u001b[0m",
      "\u001b[0;32m<ipython-input-6-290889407471>\u001b[0m in \u001b[0;36mperceptron\u001b[0;34m(X)\u001b[0m\n\u001b[1;32m      7\u001b[0m         \u001b[0mseparated\u001b[0m \u001b[0;34m=\u001b[0m \u001b[0;32mTrue\u001b[0m\u001b[0;34m\u001b[0m\u001b[0m\n\u001b[1;32m      8\u001b[0m         \u001b[0;32mfor\u001b[0m \u001b[0mx\u001b[0m \u001b[0;32min\u001b[0m \u001b[0mX\u001b[0m\u001b[0;34m:\u001b[0m\u001b[0;34m\u001b[0m\u001b[0m\n\u001b[0;32m----> 9\u001b[0;31m             \u001b[0;32mif\u001b[0m \u001b[0mw\u001b[0m \u001b[0;34m@\u001b[0m \u001b[0mx\u001b[0m \u001b[0;34m<=\u001b[0m \u001b[0;36m0\u001b[0m\u001b[0;34m:\u001b[0m\u001b[0;34m\u001b[0m\u001b[0m\n\u001b[0m\u001b[1;32m     10\u001b[0m                 \u001b[0mw\u001b[0m \u001b[0;34m+=\u001b[0m \u001b[0mx\u001b[0m\u001b[0;34m/\u001b[0m\u001b[0mLA\u001b[0m\u001b[0;34m.\u001b[0m\u001b[0mnorm\u001b[0m\u001b[0;34m(\u001b[0m\u001b[0mx\u001b[0m\u001b[0;34m,\u001b[0m \u001b[0;36m2\u001b[0m\u001b[0;34m)\u001b[0m\u001b[0;34m\u001b[0m\u001b[0m\n\u001b[1;32m     11\u001b[0m                 \u001b[0mseparated\u001b[0m\u001b[0;34m=\u001b[0m\u001b[0;32mFalse\u001b[0m\u001b[0;34m\u001b[0m\u001b[0m\n",
      "\u001b[0;31mKeyboardInterrupt\u001b[0m: "
     ]
    }
   ],
   "source": [
    "# append -1 to the end of all rows\n",
    "X = np.hstack([X,-np.ones((X.shape[0],1))])\n",
    "\n",
    "# negate values in label 0\n",
    "X[target] = -1 * X[target]\n",
    "\n",
    "perceptron(X)"
   ]
  },
  {
   "cell_type": "code",
   "execution_count": 18,
   "metadata": {},
   "outputs": [],
   "source": [
    "# b.\n",
    "from cvxopt import matrix, solvers\n",
    "solvers.options['show_progress'] = False\n",
    "\n",
    "X = df.iloc[:,:4].copy()\n",
    "y = np.expand_dims(df.iloc[:,4].copy(),axis=-1)\n",
    "\n",
    "n,d = X.shape\n",
    "lambdas = [10.0**i for i in np.arange(-7,7,1)]"
   ]
  },
  {
   "cell_type": "code",
   "execution_count": 19,
   "metadata": {},
   "outputs": [],
   "source": [
    "def svm(lam):\n",
    "    Q = matrix(np.vstack([np.hstack([np.eye(d),np.zeros([d,1+n])]),np.zeros([1+n,d+1+n])]))\n",
    "    p = matrix(np.vstack([np.zeros([d+1,1]),lam * np.ones([n,1])]))\n",
    "    h = matrix(np.vstack([-1 * np.ones([n,1]),np.zeros([n,1])]))\n",
    "    G = matrix(np.vstack([np.hstack([-1 * y * X, -1 * y, -1 * np.ones([n,n])]),np.hstack([np.zeros([n,d+1]),-1 * np.eye(n)])]))\n",
    "    sol=solvers.qp(Q, p, G, h)\n",
    "    \n",
    "    w_opt = np.array(sol['x'])[:d]\n",
    "    b = np.array(sol['x'])[d]\n",
    "    print(w_opt,b)\n",
    "    acc = np.mean((X @ w_opt + b > 0).astype(float) == (y > 0).astype(float))\n",
    "    return acc"
   ]
  },
  {
   "cell_type": "code",
   "execution_count": 20,
   "metadata": {},
   "outputs": [
    {
     "name": "stdout",
     "output_type": "stream",
     "text": [
      "[[-1.41785668e-07]\n",
      " [-9.67115743e-08]\n",
      " [-1.44256608e-09]\n",
      " [-2.58630848e-08]] [0.00247209]\n",
      "1e-07 0.4446064139941691\n",
      "[[-2.10284556e-06]\n",
      " [-1.49763010e-06]\n",
      " [ 8.04650674e-09]\n",
      " [-3.66516826e-07]] [-5.37269245e-05]\n",
      "1e-06 0.5553935860058309\n",
      "[[-2.08191356e-05]\n",
      " [-1.59399467e-05]\n",
      " [ 3.04006799e-07]\n",
      " [-3.30831866e-06]] [7.80753715e-06]\n",
      "1e-05 0.8199708454810496\n",
      "[[-1.59860406e-04]\n",
      " [-7.91284584e-05]\n",
      " [-7.80980977e-05]\n",
      " [-2.41113444e-05]] [0.00015587]\n",
      "0.0001 0.9744897959183674\n",
      "[[-7.23137849e-05]\n",
      " [-3.92128040e-05]\n",
      " [-4.91365196e-05]\n",
      " [-1.03706336e-05]] [6.37986831e-05]\n",
      "0.001 0.9868804664723032\n",
      "[[-1.53722281e-06]\n",
      " [-8.49145771e-07]\n",
      " [-1.05692732e-06]\n",
      " [-2.47848983e-07]] [1.30160191e-06]\n",
      "0.01 0.989067055393586\n",
      "[[-2.66500609e-07]\n",
      " [-1.47351529e-07]\n",
      " [-1.83345021e-07]\n",
      " [-4.30082333e-08]] [2.25575696e-07]\n",
      "0.1 0.989067055393586\n",
      "[[-1.69436272e-07]\n",
      " [-9.42862741e-08]\n",
      " [-1.17054675e-07]\n",
      " [-2.74895366e-08]] [1.43071816e-07]\n",
      "1.0 0.989067055393586\n",
      "[[-5.86021598e-07]\n",
      " [-3.23489836e-07]\n",
      " [-4.02750005e-07]\n",
      " [-9.41972369e-08]] [4.9667827e-07]\n",
      "10.0 0.989067055393586\n",
      "[[-3.89206788e-07]\n",
      " [-2.13673151e-07]\n",
      " [-2.66664322e-07]\n",
      " [-6.06551925e-08]] [3.34031713e-07]\n",
      "100.0 0.9897959183673469\n",
      "[[-2.94092126e-06]\n",
      " [-1.61129006e-06]\n",
      " [-2.01271329e-06]\n",
      " [-4.52193274e-07]] [2.53696811e-06]\n",
      "1000.0 0.9897959183673469\n",
      "[[-5.07288249e-08]\n",
      " [-2.80523688e-08]\n",
      " [-3.49025028e-08]\n",
      " [-8.19807154e-09]] [4.29119142e-08]\n",
      "10000.0 0.989067055393586\n",
      "[[-5.06398200e-08]\n",
      " [-2.79469336e-08]\n",
      " [-3.48082574e-08]\n",
      " [-8.00329246e-09]] [4.32362859e-08]\n",
      "100000.0 0.9897959183673469\n",
      "[[-3.22014830e-07]\n",
      " [-1.78038160e-07]\n",
      " [-2.21543579e-07]\n",
      " [-5.16951084e-08]] [2.73042689e-07]\n",
      "1000000.0 0.989067055393586\n"
     ]
    }
   ],
   "source": [
    "accuracies = []\n",
    "for lam in lambdas:\n",
    "    acc = svm(lam)\n",
    "    accuracies.append(acc)\n",
    "    print(lam,acc)"
   ]
  },
  {
   "cell_type": "code",
   "execution_count": 22,
   "metadata": {},
   "outputs": [
    {
     "data": {
      "image/png": "[encoded data removed]",
      "text/plain": [
       "<matplotlib.figure.Figure at 0x117e63cc0>"
      ]
     },
     "metadata": {},
     "output_type": "display_data"
    }
   ],
   "source": [
    "import matplotlib.pyplot as plt\n",
    "plt.plot([i for i in np.arange(-7,7,1)],accuracies)\n",
    "plt.xlabel('lambda')\n",
    "plt.ylabel('classification accuracy')\n",
    "plt.show()\n"
   ]
  },
  {
   "cell_type": "code",
   "execution_count": null,
   "metadata": {},
   "outputs": [],
   "source": []
  }
 ],
 "metadata": {
  "kernelspec": {
   "display_name": "ml",
   "language": "python",
   "name": "ml"
  },
  "language_info": {
   "codemirror_mode": {
    "name": "ipython",
    "version": 3
   },
   "file_extension": ".py",
   "mimetype": "text/x-python",
   "name": "python",
   "nbconvert_exporter": "python",
   "pygments_lexer": "ipython3",
   "version": "3.6.3"
  }
 },
 "nbformat": 4,
 "nbformat_minor": 2
}
