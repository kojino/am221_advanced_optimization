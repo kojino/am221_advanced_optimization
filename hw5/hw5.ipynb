{
 "cells": [
  {
   "cell_type": "code",
   "execution_count": 1,
   "metadata": {},
   "outputs": [],
   "source": [
    "import numpy as np\n",
    "import pandas as pd\n",
    "\n",
    "df = pd.read_csv('http://rasmuskyng.com/am221_spring18/psets/hw3/wines.csv',delimiter=';')"
   ]
  },
  {
   "cell_type": "code",
   "execution_count": 2,
   "metadata": {},
   "outputs": [],
   "source": [
    "n_dim = df.shape[0]\n",
    "d_dim = df.shape[1]\n",
    "\n",
    "X = np.hstack((df.iloc[:,:-1].as_matrix(),np.ones((n_dim,1))))\n",
    "y = df.iloc[:,-1].as_matrix().astype(float)"
   ]
  },
  {
   "cell_type": "code",
   "execution_count": 3,
   "metadata": {},
   "outputs": [
    {
     "name": "stdout",
     "output_type": "stream",
     "text": [
      "True\n",
      "True\n"
     ]
    }
   ],
   "source": [
    "# a.\n",
    "def is_psd(x):\n",
    "    return np.all(np.linalg.eigvals(x) >= 0)\n",
    "hessian = X.T @ X # no division by 2 for simplicity\n",
    "hessian_evalues = np.linalg.eigvals(hessian)\n",
    "M = max(hessian_evalues)\n",
    "m = min(hessian_evalues)\n",
    "I = np.identity(X.shape[1])\n",
    "print(is_psd(M*I-hessian))\n",
    "print(is_psd(hessian-m*I))"
   ]
  },
  {
   "cell_type": "code",
   "execution_count": 4,
   "metadata": {},
   "outputs": [],
   "source": [
    "# b.\n",
    "d_closed = np.linalg.inv(X.T @ X) @ X.T @ y "
   ]
  },
  {
   "cell_type": "code",
   "execution_count": 5,
   "metadata": {},
   "outputs": [],
   "source": [
    "def f(d):\n",
    "    return np.linalg.norm(X @ d - y) ** 2 / n_dim"
   ]
  },
  {
   "cell_type": "code",
   "execution_count": 6,
   "metadata": {},
   "outputs": [
    {
     "name": "stdout",
     "output_type": "stream",
     "text": [
      "a: [  2.49905528e-02  -1.08359026e+00  -1.82563950e-01   1.63312698e-02\n",
      "  -1.87422516e+00   4.36133331e-03  -3.26457970e-03  -1.78811638e+01\n",
      "  -4.13653144e-01   9.16334413e-01   2.76197699e-01] \n",
      "b: 21.9652084243 \n",
      "val: 0.416767167221\n"
     ]
    }
   ],
   "source": [
    "a_closed,b_closed = d_closed[:-1], d_closed[-1]\n",
    "val_closed = f(d_closed)\n",
    "print(\"a:\",a_closed,\"\\nb:\",b_closed,\"\\nval:\",val_closed)"
   ]
  },
  {
   "cell_type": "code",
   "execution_count": 7,
   "metadata": {},
   "outputs": [],
   "source": [
    "# c.\n",
    "num_epoch = 100000\n",
    "d_iter = np.hstack([np.random.normal(loc=0,scale=0.00001,size=d_dim-1),[1]])\n",
    "d_init = d_iter.copy()\n",
    "for i in range(num_epoch):\n",
    "    delta = np.random.normal(loc=0,scale=0.00001,size=d_dim) \n",
    "    lam   = ((X@delta).T @ (y-X@d_iter))/np.linalg.norm(X@delta)**2\n",
    "    d_iter = d_iter + lam * delta\n"
   ]
  },
  {
   "cell_type": "code",
   "execution_count": 8,
   "metadata": {},
   "outputs": [
    {
     "name": "stdout",
     "output_type": "stream",
     "text": [
      "a: [ 0.0500125  -1.17167371 -0.26890125  0.00559058 -0.42777061  0.00372603\n",
      " -0.0025374   0.43352368  0.05853582  0.77727784  0.31220335] \n",
      "b: 1.6003328406 \n",
      "val: 0.422788771591\n"
     ]
    }
   ],
   "source": [
    "a_iter,b_iter = d_iter[:-1], d_iter[-1]\n",
    "val_iter = f(d_iter)\n",
    "print(\"a:\",a_iter,\"\\nb:\",b_iter,\"\\nval:\",val_iter)"
   ]
  },
  {
   "cell_type": "code",
   "execution_count": 9,
   "metadata": {},
   "outputs": [
    {
     "data": {
      "text/plain": [
       "21.726749953344953"
      ]
     },
     "execution_count": 9,
     "metadata": {},
     "output_type": "execute_result"
    }
   ],
   "source": [
    "# d.\n",
    "(1-m/M)**num_epoch * (f(np.hstack([np.random.normal(loc=0,scale=0.00001,size=d_dim-1),[1]]))-f(d_closed))"
   ]
  }
 ],
 "metadata": {
  "kernelspec": {
   "display_name": "ml",
   "language": "python",
   "name": "ml"
  },
  "language_info": {
   "codemirror_mode": {
    "name": "ipython",
    "version": 3
   },
   "file_extension": ".py",
   "mimetype": "text/x-python",
   "name": "python",
   "nbconvert_exporter": "python",
   "pygments_lexer": "ipython3",
   "version": "3.6.3"
  }
 },
 "nbformat": 4,
 "nbformat_minor": 2
}
